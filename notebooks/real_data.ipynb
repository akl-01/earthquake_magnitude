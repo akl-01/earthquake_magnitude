{
 "cells": [
  {
   "cell_type": "code",
   "execution_count": 58,
   "metadata": {},
   "outputs": [],
   "source": [
    "import datetime\n",
    "from libcomcat.search import count, get_event_by_id, search "
   ]
  },
  {
   "cell_type": "code",
   "execution_count": 59,
   "metadata": {},
   "outputs": [
    {
     "data": {
      "text/plain": [
       "3"
      ]
     },
     "execution_count": 59,
     "metadata": {},
     "output_type": "execute_result"
    }
   ],
   "source": [
    "datetime.datetime.fromtimestamp(1711153611200/1e3).time().hour"
   ]
  },
  {
   "cell_type": "code",
   "execution_count": 60,
   "metadata": {},
   "outputs": [
    {
     "data": {
      "text/plain": [
       "18"
      ]
     },
     "execution_count": 60,
     "metadata": {},
     "output_type": "execute_result"
    }
   ],
   "source": [
    "start_date = datetime.datetime.now()\n",
    "start_date.time().hour"
   ]
  },
  {
   "cell_type": "code",
   "execution_count": 61,
   "metadata": {},
   "outputs": [
    {
     "data": {
      "text/plain": [
       "datetime.datetime(2024, 3, 23, 0, 0)"
      ]
     },
     "execution_count": 61,
     "metadata": {},
     "output_type": "execute_result"
    }
   ],
   "source": [
    "start_date = datetime.datetime.now().date()\n",
    "start_time = datetime.time.min\n",
    "start = datetime.datetime.combine(start_date, start_time)\n",
    "start"
   ]
  },
  {
   "cell_type": "code",
   "execution_count": 62,
   "metadata": {},
   "outputs": [
    {
     "name": "stdout",
     "output_type": "stream",
     "text": [
      "Returned 136 events\n"
     ]
    }
   ],
   "source": [
    "time_events = search(starttime=start, endtime=datetime.datetime.now())\n",
    "print(\"Returned %s events\" % len(time_events))"
   ]
  },
  {
   "cell_type": "code",
   "execution_count": 36,
   "metadata": {},
   "outputs": [],
   "source": [
    "d = {}\n",
    "ci3144585 = time_events[1]\n",
    "properties = ci3144585.properties\n",
    "for prop in properties:\n",
    "    d[prop] = [ci3144585[prop]]"
   ]
  },
  {
   "cell_type": "code",
   "execution_count": 42,
   "metadata": {},
   "outputs": [
    {
     "data": {
      "text/plain": [
       "['mag',\n",
       " 'place',\n",
       " 'time',\n",
       " 'updated',\n",
       " 'tz',\n",
       " 'url',\n",
       " 'detail',\n",
       " 'felt',\n",
       " 'cdi',\n",
       " 'mmi',\n",
       " 'alert',\n",
       " 'status',\n",
       " 'tsunami',\n",
       " 'sig',\n",
       " 'net',\n",
       " 'code',\n",
       " 'ids',\n",
       " 'sources',\n",
       " 'types',\n",
       " 'nst',\n",
       " 'dmin',\n",
       " 'rms',\n",
       " 'gap',\n",
       " 'magType',\n",
       " 'type',\n",
       " 'title']"
      ]
     },
     "execution_count": 42,
     "metadata": {},
     "output_type": "execute_result"
    }
   ],
   "source": [
    "ci3144585.properties"
   ]
  },
  {
   "cell_type": "code",
   "execution_count": 63,
   "metadata": {},
   "outputs": [],
   "source": [
    "import json\n",
    "import urllib.request"
   ]
  },
  {
   "cell_type": "code",
   "execution_count": 140,
   "metadata": {},
   "outputs": [
    {
     "data": {
      "text/plain": [
       "{'mag': 1.91,\n",
       " 'place': '6 km SW of Volcano, Hawaii',\n",
       " 'time': 1711153611200,\n",
       " 'updated': 1711153769280,\n",
       " 'tz': None,\n",
       " 'url': 'https://earthquake.usgs.gov/earthquakes/eventpage/hv74146442',\n",
       " 'felt': None,\n",
       " 'cdi': None,\n",
       " 'mmi': None,\n",
       " 'alert': None,\n",
       " 'status': 'automatic',\n",
       " 'tsunami': 0,\n",
       " 'sig': 56,\n",
       " 'net': 'hv',\n",
       " 'code': '74146442',\n",
       " 'ids': ',hv74146442,',\n",
       " 'sources': ',hv,',\n",
       " 'types': ',origin,phase-data,',\n",
       " 'nst': 14,\n",
       " 'dmin': 0.003498,\n",
       " 'rms': 0.129999995,\n",
       " 'gap': 57,\n",
       " 'magType': 'ml',\n",
       " 'type': 'earthquake',\n",
       " 'title': 'M 1.9 - 6 km SW of Volcano, Hawaii',\n",
       " 'products': {'origin': [{'indexid': '24501749',\n",
       "    'indexTime': 1711153771765,\n",
       "    'id': 'urn:usgs-product:hv:origin:hv74146442:1711153769280',\n",
       "    'type': 'origin',\n",
       "    'code': 'hv74146442',\n",
       "    'source': 'hv',\n",
       "    'updateTime': 1711153769280,\n",
       "    'status': 'UPDATE',\n",
       "    'properties': {'azimuthal-gap': '57',\n",
       "     'depth': '0.610000014305115',\n",
       "     'depth-type': 'from location',\n",
       "     'error-ellipse-azimuth': '241',\n",
       "     'error-ellipse-intermediate': '480.0000072',\n",
       "     'error-ellipse-major': '864.0000336',\n",
       "     'error-ellipse-minor': '360.0000144',\n",
       "     'error-ellipse-plunge': '63',\n",
       "     'error-ellipse-rotation': '351',\n",
       "     'evaluation-status': 'preliminary',\n",
       "     'event-type': 'earthquake',\n",
       "     'eventParametersPublicID': 'quakeml:hv.anss.org/Event/HV/74146442#171115376928',\n",
       "     'eventsource': 'hv',\n",
       "     'eventsourcecode': '74146442',\n",
       "     'eventtime': '2024-03-23T00:26:51.200Z',\n",
       "     'horizontal-error': '0.18',\n",
       "     'latitude': '19.3950004577637',\n",
       "     'longitude': '-155.277328491211',\n",
       "     'magnitude': '1.91',\n",
       "     'magnitude-azimuthal-gap': '-1',\n",
       "     'magnitude-error': '0.12',\n",
       "     'magnitude-num-stations-used': '6',\n",
       "     'magnitude-source': 'HV',\n",
       "     'magnitude-type': 'ml',\n",
       "     'minimum-distance': '0.003498',\n",
       "     'num-phases-used': '25',\n",
       "     'num-stations-used': '14',\n",
       "     'origin-source': 'HV',\n",
       "     'original-signature': 'MCwCFEESvaMjmB9rH4SLgIc0rzzBeEU0AhR8vejaae6jJwpc/5NBFQUhk4u3xA==',\n",
       "     'original-signature-version': 'v1',\n",
       "     'pdl-client-version': 'Version 2.8.0 2022-10-11',\n",
       "     'quakeml-magnitude-publicid': 'quakeml:hv.anss.org/Netmag/HV/700077597',\n",
       "     'quakeml-origin-publicid': 'quakeml:hv.anss.org/Origin/HV/700146442',\n",
       "     'quakeml-publicid': 'quakeml:hv.anss.org/Event/HV/74146442',\n",
       "     'review-status': 'automatic',\n",
       "     'standard-error': '0.129999995',\n",
       "     'title': '6 km SW of Volcano, Hawaii',\n",
       "     'version': '0',\n",
       "     'vertical-error': '0.330000013'},\n",
       "    'preferredWeight': 157,\n",
       "    'contents': {'contents.xml': {'contentType': 'application/xml',\n",
       "      'lastModified': 1711153770000,\n",
       "      'length': 195,\n",
       "      'url': 'https://earthquake.usgs.gov/product/origin/hv74146442/hv/1711153769280/contents.xml',\n",
       "      'sha256': 'ABhLiaqdYWmIak24eD/csBAWouBShhatD9bUzLNEZFk='},\n",
       "     'quakeml.xml': {'contentType': 'application/xml',\n",
       "      'lastModified': 1711153769000,\n",
       "      'length': 3220,\n",
       "      'url': 'https://earthquake.usgs.gov/product/origin/hv74146442/hv/1711153769280/quakeml.xml',\n",
       "      'sha256': 'p2FexIq4RtVnau+j8FWiYYUNKXagUUJoPLBLHh2z9ac='}}}],\n",
       "  'phase-data': [{'indexid': '24501750',\n",
       "    'indexTime': 1711153772291,\n",
       "    'id': 'urn:usgs-product:hv:phase-data:hv74146442:1711153769280',\n",
       "    'type': 'phase-data',\n",
       "    'code': 'hv74146442',\n",
       "    'source': 'hv',\n",
       "    'updateTime': 1711153769280,\n",
       "    'status': 'UPDATE',\n",
       "    'properties': {'azimuthal-gap': '57',\n",
       "     'depth': '0.610000014305115',\n",
       "     'depth-type': 'from location',\n",
       "     'error-ellipse-azimuth': '241',\n",
       "     'error-ellipse-intermediate': '480.0000072',\n",
       "     'error-ellipse-major': '864.0000336',\n",
       "     'error-ellipse-minor': '360.0000144',\n",
       "     'error-ellipse-plunge': '63',\n",
       "     'error-ellipse-rotation': '351',\n",
       "     'evaluation-status': 'preliminary',\n",
       "     'event-type': 'earthquake',\n",
       "     'eventParametersPublicID': 'quakeml:hv.anss.org/Event/HV/74146442#171115376928',\n",
       "     'eventsource': 'hv',\n",
       "     'eventsourcecode': '74146442',\n",
       "     'eventtime': '2024-03-23T00:26:51.200Z',\n",
       "     'horizontal-error': '0.18',\n",
       "     'latitude': '19.3950004577637',\n",
       "     'longitude': '-155.277328491211',\n",
       "     'magnitude': '1.91',\n",
       "     'magnitude-azimuthal-gap': '-1',\n",
       "     'magnitude-error': '0.12',\n",
       "     'magnitude-num-stations-used': '6',\n",
       "     'magnitude-source': 'HV',\n",
       "     'magnitude-type': 'ml',\n",
       "     'minimum-distance': '0.003498',\n",
       "     'num-phases-used': '25',\n",
       "     'num-stations-used': '14',\n",
       "     'origin-source': 'HV',\n",
       "     'original-signature': 'MC0CFQCEUOI1tbvrKGyp7vPGSujnn+KXjgIUTtdoOaiKLrdL6YIpKr7pfWwHzUo=',\n",
       "     'original-signature-version': 'v1',\n",
       "     'pdl-client-version': 'Version 2.8.0 2022-10-11',\n",
       "     'quakeml-magnitude-publicid': 'quakeml:hv.anss.org/Netmag/HV/700077597',\n",
       "     'quakeml-origin-publicid': 'quakeml:hv.anss.org/Origin/HV/700146442',\n",
       "     'quakeml-publicid': 'quakeml:hv.anss.org/Event/HV/74146442',\n",
       "     'review-status': 'automatic',\n",
       "     'standard-error': '0.129999995',\n",
       "     'version': '0',\n",
       "     'vertical-error': '0.330000013'},\n",
       "    'preferredWeight': 157,\n",
       "    'contents': {'contents.xml': {'contentType': 'application/xml',\n",
       "      'lastModified': 1711153770000,\n",
       "      'length': 195,\n",
       "      'url': 'https://earthquake.usgs.gov/product/phase-data/hv74146442/hv/1711153769280/contents.xml',\n",
       "      'sha256': 'ABhLiaqdYWmIak24eD/csBAWouBShhatD9bUzLNEZFk='},\n",
       "     'quakeml.xml': {'contentType': 'application/xml',\n",
       "      'lastModified': 1711153769000,\n",
       "      'length': 86684,\n",
       "      'url': 'https://earthquake.usgs.gov/product/phase-data/hv74146442/hv/1711153769280/quakeml.xml',\n",
       "      'sha256': 'pAFcKgK0iBXJRR7Pkh6l2u3/GN5WRr8yXZkyDV9olzY='}}}]}}"
      ]
     },
     "execution_count": 140,
     "metadata": {},
     "output_type": "execute_result"
    }
   ],
   "source": [
    "with urllib.request.urlopen(d[\"detail\"][0]) as url:\n",
    "    data = json.load(url)[\"properties\"]\n",
    "data"
   ]
  },
  {
   "cell_type": "code",
   "execution_count": 226,
   "metadata": {},
   "outputs": [],
   "source": [
    "data[\"real_time\"] = True"
   ]
  },
  {
   "cell_type": "code",
   "execution_count": 227,
   "metadata": {},
   "outputs": [
    {
     "data": {
      "text/plain": [
       "{'mag': 1.91,\n",
       " 'place': '6 km SW of Volcano, Hawaii',\n",
       " 'time': 1711153611200,\n",
       " 'updated': 1711153769280,\n",
       " 'tz': None,\n",
       " 'url': 'https://earthquake.usgs.gov/earthquakes/eventpage/hv74146442',\n",
       " 'felt': None,\n",
       " 'cdi': None,\n",
       " 'mmi': None,\n",
       " 'alert': None,\n",
       " 'status': 'automatic',\n",
       " 'tsunami': 0,\n",
       " 'sig': 56,\n",
       " 'net': 'hv',\n",
       " 'code': '74146442',\n",
       " 'ids': ',hv74146442,',\n",
       " 'sources': ',hv,',\n",
       " 'types': ',origin,phase-data,',\n",
       " 'nst': 14,\n",
       " 'dmin': 0.003498,\n",
       " 'rms': 0.129999995,\n",
       " 'gap': 57,\n",
       " 'magType': 'ml',\n",
       " 'type': 'earthquake',\n",
       " 'title': 'M 1.9 - 6 km SW of Volcano, Hawaii',\n",
       " 'products': {'origin': [{'indexid': '24501749',\n",
       "    'indexTime': 1711153771765,\n",
       "    'id': 'urn:usgs-product:hv:origin:hv74146442:1711153769280',\n",
       "    'type': 'origin',\n",
       "    'code': 'hv74146442',\n",
       "    'source': 'hv',\n",
       "    'updateTime': 1711153769280,\n",
       "    'status': 'UPDATE',\n",
       "    'properties': {'azimuthal-gap': '57',\n",
       "     'depth': '0.610000014305115',\n",
       "     'depth-type': 'from location',\n",
       "     'error-ellipse-azimuth': '241',\n",
       "     'error-ellipse-intermediate': '480.0000072',\n",
       "     'error-ellipse-major': '864.0000336',\n",
       "     'error-ellipse-minor': '360.0000144',\n",
       "     'error-ellipse-plunge': '63',\n",
       "     'error-ellipse-rotation': '351',\n",
       "     'evaluation-status': 'preliminary',\n",
       "     'event-type': 'earthquake',\n",
       "     'eventParametersPublicID': 'quakeml:hv.anss.org/Event/HV/74146442#171115376928',\n",
       "     'eventsource': 'hv',\n",
       "     'eventsourcecode': '74146442',\n",
       "     'eventtime': '2024-03-23T00:26:51.200Z',\n",
       "     'horizontal-error': '0.18',\n",
       "     'latitude': '19.3950004577637',\n",
       "     'longitude': '-155.277328491211',\n",
       "     'magnitude': '1.91',\n",
       "     'magnitude-azimuthal-gap': '-1',\n",
       "     'magnitude-error': '0.12',\n",
       "     'magnitude-num-stations-used': '6',\n",
       "     'magnitude-source': 'HV',\n",
       "     'magnitude-type': 'ml',\n",
       "     'minimum-distance': '0.003498',\n",
       "     'num-phases-used': '25',\n",
       "     'num-stations-used': '14',\n",
       "     'origin-source': 'HV',\n",
       "     'original-signature': 'MCwCFEESvaMjmB9rH4SLgIc0rzzBeEU0AhR8vejaae6jJwpc/5NBFQUhk4u3xA==',\n",
       "     'original-signature-version': 'v1',\n",
       "     'pdl-client-version': 'Version 2.8.0 2022-10-11',\n",
       "     'quakeml-magnitude-publicid': 'quakeml:hv.anss.org/Netmag/HV/700077597',\n",
       "     'quakeml-origin-publicid': 'quakeml:hv.anss.org/Origin/HV/700146442',\n",
       "     'quakeml-publicid': 'quakeml:hv.anss.org/Event/HV/74146442',\n",
       "     'review-status': 'automatic',\n",
       "     'standard-error': '0.129999995',\n",
       "     'title': '6 km SW of Volcano, Hawaii',\n",
       "     'version': '0',\n",
       "     'vertical-error': '0.330000013'},\n",
       "    'preferredWeight': 157,\n",
       "    'contents': {'contents.xml': {'contentType': 'application/xml',\n",
       "      'lastModified': 1711153770000,\n",
       "      'length': 195,\n",
       "      'url': 'https://earthquake.usgs.gov/product/origin/hv74146442/hv/1711153769280/contents.xml',\n",
       "      'sha256': 'ABhLiaqdYWmIak24eD/csBAWouBShhatD9bUzLNEZFk='},\n",
       "     'quakeml.xml': {'contentType': 'application/xml',\n",
       "      'lastModified': 1711153769000,\n",
       "      'length': 3220,\n",
       "      'url': 'https://earthquake.usgs.gov/product/origin/hv74146442/hv/1711153769280/quakeml.xml',\n",
       "      'sha256': 'p2FexIq4RtVnau+j8FWiYYUNKXagUUJoPLBLHh2z9ac='}}}],\n",
       "  'phase-data': [{'indexid': '24501750',\n",
       "    'indexTime': 1711153772291,\n",
       "    'id': 'urn:usgs-product:hv:phase-data:hv74146442:1711153769280',\n",
       "    'type': 'phase-data',\n",
       "    'code': 'hv74146442',\n",
       "    'source': 'hv',\n",
       "    'updateTime': 1711153769280,\n",
       "    'status': 'UPDATE',\n",
       "    'properties': {'azimuthal-gap': '57',\n",
       "     'depth': '0.610000014305115',\n",
       "     'depth-type': 'from location',\n",
       "     'error-ellipse-azimuth': '241',\n",
       "     'error-ellipse-intermediate': '480.0000072',\n",
       "     'error-ellipse-major': '864.0000336',\n",
       "     'error-ellipse-minor': '360.0000144',\n",
       "     'error-ellipse-plunge': '63',\n",
       "     'error-ellipse-rotation': '351',\n",
       "     'evaluation-status': 'preliminary',\n",
       "     'event-type': 'earthquake',\n",
       "     'eventParametersPublicID': 'quakeml:hv.anss.org/Event/HV/74146442#171115376928',\n",
       "     'eventsource': 'hv',\n",
       "     'eventsourcecode': '74146442',\n",
       "     'eventtime': '2024-03-23T00:26:51.200Z',\n",
       "     'horizontal-error': '0.18',\n",
       "     'latitude': '19.3950004577637',\n",
       "     'longitude': '-155.277328491211',\n",
       "     'magnitude': '1.91',\n",
       "     'magnitude-azimuthal-gap': '-1',\n",
       "     'magnitude-error': '0.12',\n",
       "     'magnitude-num-stations-used': '6',\n",
       "     'magnitude-source': 'HV',\n",
       "     'magnitude-type': 'ml',\n",
       "     'minimum-distance': '0.003498',\n",
       "     'num-phases-used': '25',\n",
       "     'num-stations-used': '14',\n",
       "     'origin-source': 'HV',\n",
       "     'original-signature': 'MC0CFQCEUOI1tbvrKGyp7vPGSujnn+KXjgIUTtdoOaiKLrdL6YIpKr7pfWwHzUo=',\n",
       "     'original-signature-version': 'v1',\n",
       "     'pdl-client-version': 'Version 2.8.0 2022-10-11',\n",
       "     'quakeml-magnitude-publicid': 'quakeml:hv.anss.org/Netmag/HV/700077597',\n",
       "     'quakeml-origin-publicid': 'quakeml:hv.anss.org/Origin/HV/700146442',\n",
       "     'quakeml-publicid': 'quakeml:hv.anss.org/Event/HV/74146442',\n",
       "     'review-status': 'automatic',\n",
       "     'standard-error': '0.129999995',\n",
       "     'version': '0',\n",
       "     'vertical-error': '0.330000013'},\n",
       "    'preferredWeight': 157,\n",
       "    'contents': {'contents.xml': {'contentType': 'application/xml',\n",
       "      'lastModified': 1711153770000,\n",
       "      'length': 195,\n",
       "      'url': 'https://earthquake.usgs.gov/product/phase-data/hv74146442/hv/1711153769280/contents.xml',\n",
       "      'sha256': 'ABhLiaqdYWmIak24eD/csBAWouBShhatD9bUzLNEZFk='},\n",
       "     'quakeml.xml': {'contentType': 'application/xml',\n",
       "      'lastModified': 1711153769000,\n",
       "      'length': 86684,\n",
       "      'url': 'https://earthquake.usgs.gov/product/phase-data/hv74146442/hv/1711153769280/quakeml.xml',\n",
       "      'sha256': 'pAFcKgK0iBXJRR7Pkh6l2u3/GN5WRr8yXZkyDV9olzY='}}}]},\n",
       " 'rael_time': True,\n",
       " 'reql_time': True,\n",
       " 'real_time': True}"
      ]
     },
     "execution_count": 227,
     "metadata": {},
     "output_type": "execute_result"
    }
   ],
   "source": [
    "data"
   ]
  },
  {
   "cell_type": "code",
   "execution_count": 228,
   "metadata": {},
   "outputs": [],
   "source": [
    "import pandas as pd"
   ]
  },
  {
   "cell_type": "code",
   "execution_count": 229,
   "metadata": {},
   "outputs": [],
   "source": [
    "df = pd.DataFrame.from_dict(data)"
   ]
  },
  {
   "cell_type": "code",
   "execution_count": 230,
   "metadata": {},
   "outputs": [],
   "source": [
    "a = df.loc[\"origin\"].to_frame().transpose().reset_index()"
   ]
  },
  {
   "cell_type": "code",
   "execution_count": 231,
   "metadata": {},
   "outputs": [],
   "source": [
    "a.drop([\"index\"], axis=1, inplace=True)"
   ]
  },
  {
   "cell_type": "code",
   "execution_count": 232,
   "metadata": {},
   "outputs": [],
   "source": [
    "z =a.to_json()"
   ]
  },
  {
   "cell_type": "code",
   "execution_count": 255,
   "metadata": {},
   "outputs": [
    {
     "name": "stderr",
     "output_type": "stream",
     "text": [
      "/tmp/ipykernel_8089/3224626300.py:1: FutureWarning: Passing literal json to 'read_json' is deprecated and will be removed in a future version. To read from a literal string, wrap it in a 'StringIO' object.\n",
      "  d = pd.read_json(z, orient=\"index\")\n"
     ]
    }
   ],
   "source": [
    "d = pd.read_json(z, orient=\"index\")\n",
    "d = d.transpose()"
   ]
  },
  {
   "cell_type": "code",
   "execution_count": 260,
   "metadata": {},
   "outputs": [
    {
     "name": "stdout",
     "output_type": "stream",
     "text": [
      "Hekko\n"
     ]
    }
   ],
   "source": [
    "if not d[\"net\"].values == \"official\":\n",
    "    print(\"Hekko\")"
   ]
  },
  {
   "cell_type": "code",
   "execution_count": 266,
   "metadata": {},
   "outputs": [],
   "source": [
    "import numpy as np"
   ]
  },
  {
   "cell_type": "code",
   "execution_count": 274,
   "metadata": {},
   "outputs": [],
   "source": [
    "d[\"net\"][0] = 1"
   ]
  },
  {
   "cell_type": "code",
   "execution_count": 275,
   "metadata": {},
   "outputs": [
    {
     "data": {
      "text/plain": [
       "0    1\n",
       "Name: net, dtype: object"
      ]
     },
     "execution_count": 275,
     "metadata": {},
     "output_type": "execute_result"
    }
   ],
   "source": [
    "d[\"net\"]"
   ]
  },
  {
   "cell_type": "code",
   "execution_count": 254,
   "metadata": {},
   "outputs": [
    {
     "data": {
      "text/plain": [
       "{'azimuthal-gap': '57',\n",
       " 'depth': '0.610000014305115',\n",
       " 'depth-type': 'from location',\n",
       " 'error-ellipse-azimuth': '241',\n",
       " 'error-ellipse-intermediate': '480.0000072',\n",
       " 'error-ellipse-major': '864.0000336',\n",
       " 'error-ellipse-minor': '360.0000144',\n",
       " 'error-ellipse-plunge': '63',\n",
       " 'error-ellipse-rotation': '351',\n",
       " 'evaluation-status': 'preliminary',\n",
       " 'event-type': 'earthquake',\n",
       " 'eventParametersPublicID': 'quakeml:hv.anss.org/Event/HV/74146442#171115376928',\n",
       " 'eventsource': 'hv',\n",
       " 'eventsourcecode': '74146442',\n",
       " 'eventtime': '2024-03-23T00:26:51.200Z',\n",
       " 'horizontal-error': '0.18',\n",
       " 'latitude': '19.3950004577637',\n",
       " 'longitude': '-155.277328491211',\n",
       " 'magnitude': '1.91',\n",
       " 'magnitude-azimuthal-gap': '-1',\n",
       " 'magnitude-error': '0.12',\n",
       " 'magnitude-num-stations-used': '6',\n",
       " 'magnitude-source': 'HV',\n",
       " 'magnitude-type': 'ml',\n",
       " 'minimum-distance': '0.003498',\n",
       " 'num-phases-used': '25',\n",
       " 'num-stations-used': '14',\n",
       " 'origin-source': 'HV',\n",
       " 'original-signature': 'MCwCFEESvaMjmB9rH4SLgIc0rzzBeEU0AhR8vejaae6jJwpc/5NBFQUhk4u3xA==',\n",
       " 'original-signature-version': 'v1',\n",
       " 'pdl-client-version': 'Version 2.8.0 2022-10-11',\n",
       " 'quakeml-magnitude-publicid': 'quakeml:hv.anss.org/Netmag/HV/700077597',\n",
       " 'quakeml-origin-publicid': 'quakeml:hv.anss.org/Origin/HV/700146442',\n",
       " 'quakeml-publicid': 'quakeml:hv.anss.org/Event/HV/74146442',\n",
       " 'review-status': 'automatic',\n",
       " 'standard-error': '0.129999995',\n",
       " 'title': '6 km SW of Volcano, Hawaii',\n",
       " 'version': '0',\n",
       " 'vertical-error': '0.330000013'}"
      ]
     },
     "execution_count": 254,
     "metadata": {},
     "output_type": "execute_result"
    }
   ],
   "source": [
    "r = d[\"products\"][0][0][\"properties\"]\n",
    "r"
   ]
  },
  {
   "cell_type": "code",
   "execution_count": 242,
   "metadata": {},
   "outputs": [],
   "source": [
    "if d[\"net\"].values == \"ofice\":\n",
    "    print(\"hello\")"
   ]
  },
  {
   "cell_type": "code",
   "execution_count": 191,
   "metadata": {},
   "outputs": [
    {
     "name": "stderr",
     "output_type": "stream",
     "text": [
      "/tmp/ipykernel_8089/122923658.py:1: FutureWarning: Series.replace without 'value' and with non-dict-like 'to_replace' is deprecated and will raise in a future version. Explicitly specify the new values instead.\n",
      "  a[\"net\"].replace(1)\n"
     ]
    },
    {
     "data": {
      "text/plain": [
       "0    1\n",
       "Name: net, dtype: int64"
      ]
     },
     "execution_count": 191,
     "metadata": {},
     "output_type": "execute_result"
    }
   ],
   "source": [
    "a[\"net\"].replace(1)"
   ]
  },
  {
   "cell_type": "code",
   "execution_count": 193,
   "metadata": {},
   "outputs": [
    {
     "data": {
      "text/plain": [
       "0    1\n",
       "Name: net, dtype: int64"
      ]
     },
     "execution_count": 193,
     "metadata": {},
     "output_type": "execute_result"
    }
   ],
   "source": [
    "a[\"net\"]"
   ]
  },
  {
   "cell_type": "code",
   "execution_count": 135,
   "metadata": {},
   "outputs": [
    {
     "data": {
      "text/plain": [
       "{'azimuthal-gap': '57',\n",
       " 'depth': '0.610000014305115',\n",
       " 'depth-type': 'from location',\n",
       " 'error-ellipse-azimuth': '241',\n",
       " 'error-ellipse-intermediate': '480.0000072',\n",
       " 'error-ellipse-major': '864.0000336',\n",
       " 'error-ellipse-minor': '360.0000144',\n",
       " 'error-ellipse-plunge': '63',\n",
       " 'error-ellipse-rotation': '351',\n",
       " 'evaluation-status': 'preliminary',\n",
       " 'event-type': 'earthquake',\n",
       " 'eventParametersPublicID': 'quakeml:hv.anss.org/Event/HV/74146442#171115376928',\n",
       " 'eventsource': 'hv',\n",
       " 'eventsourcecode': '74146442',\n",
       " 'eventtime': '2024-03-23T00:26:51.200Z',\n",
       " 'horizontal-error': '0.18',\n",
       " 'latitude': '19.3950004577637',\n",
       " 'longitude': '-155.277328491211',\n",
       " 'magnitude': '1.91',\n",
       " 'magnitude-azimuthal-gap': '-1',\n",
       " 'magnitude-error': '0.12',\n",
       " 'magnitude-num-stations-used': '6',\n",
       " 'magnitude-source': 'HV',\n",
       " 'magnitude-type': 'ml',\n",
       " 'minimum-distance': '0.003498',\n",
       " 'num-phases-used': '25',\n",
       " 'num-stations-used': '14',\n",
       " 'origin-source': 'HV',\n",
       " 'original-signature': 'MCwCFEESvaMjmB9rH4SLgIc0rzzBeEU0AhR8vejaae6jJwpc/5NBFQUhk4u3xA==',\n",
       " 'original-signature-version': 'v1',\n",
       " 'pdl-client-version': 'Version 2.8.0 2022-10-11',\n",
       " 'quakeml-magnitude-publicid': 'quakeml:hv.anss.org/Netmag/HV/700077597',\n",
       " 'quakeml-origin-publicid': 'quakeml:hv.anss.org/Origin/HV/700146442',\n",
       " 'quakeml-publicid': 'quakeml:hv.anss.org/Event/HV/74146442',\n",
       " 'review-status': 'automatic',\n",
       " 'standard-error': '0.129999995',\n",
       " 'title': '6 km SW of Volcano, Hawaii',\n",
       " 'version': '0',\n",
       " 'vertical-error': '0.330000013'}"
      ]
     },
     "execution_count": 135,
     "metadata": {},
     "output_type": "execute_result"
    }
   ],
   "source": [
    "df.loc[\"origin\"][\"products\"][0][\"properties\"]"
   ]
  },
  {
   "cell_type": "code",
   "execution_count": 126,
   "metadata": {},
   "outputs": [],
   "source": [
    "a = df.loc[\"origin\"]"
   ]
  },
  {
   "cell_type": "code",
   "execution_count": 127,
   "metadata": {},
   "outputs": [],
   "source": [
    "b = pd.Series({\"age\": 40})"
   ]
  },
  {
   "cell_type": "code",
   "execution_count": 129,
   "metadata": {},
   "outputs": [
    {
     "data": {
      "text/plain": [
       "mag                                                       1.91\n",
       "place                               6 km SW of Volcano, Hawaii\n",
       "time                                             1711153611200\n",
       "updated                                          1711153769280\n",
       "tz                                                        None\n",
       "url          https://earthquake.usgs.gov/earthquakes/eventp...\n",
       "felt                                                      None\n",
       "cdi                                                       None\n",
       "mmi                                                       None\n",
       "alert                                                     None\n",
       "status                                               automatic\n",
       "tsunami                                                      0\n",
       "sig                                                         56\n",
       "net                                                         hv\n",
       "code                                                  74146442\n",
       "ids                                               ,hv74146442,\n",
       "sources                                                   ,hv,\n",
       "types                                      ,origin,phase-data,\n",
       "nst                                                         14\n",
       "dmin                                                  0.003498\n",
       "rms                                                       0.13\n",
       "gap                                                         57\n",
       "magType                                                     ml\n",
       "type                                                earthquake\n",
       "title                       M 1.9 - 6 km SW of Volcano, Hawaii\n",
       "products     [{'indexid': '24501749', 'indexTime': 17111537...\n",
       "rael_time                                                 True\n",
       "age                                                         40\n",
       "dtype: object"
      ]
     },
     "execution_count": 129,
     "metadata": {},
     "output_type": "execute_result"
    }
   ],
   "source": [
    "pd.concat([a, b])"
   ]
  },
  {
   "cell_type": "code",
   "execution_count": null,
   "metadata": {},
   "outputs": [],
   "source": []
  }
 ],
 "metadata": {
  "kernelspec": {
   "display_name": ".venv",
   "language": "python",
   "name": "python3"
  },
  "language_info": {
   "codemirror_mode": {
    "name": "ipython",
    "version": 3
   },
   "file_extension": ".py",
   "mimetype": "text/x-python",
   "name": "python",
   "nbconvert_exporter": "python",
   "pygments_lexer": "ipython3",
   "version": "3.10.12"
  }
 },
 "nbformat": 4,
 "nbformat_minor": 2
}
