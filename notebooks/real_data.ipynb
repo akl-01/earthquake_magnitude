{
 "cells": [
  {
   "cell_type": "code",
   "execution_count": 18,
   "metadata": {},
   "outputs": [],
   "source": [
    "from datetime import datetime, time, date\n",
    "from libcomcat.search import count, get_event_by_id, search "
   ]
  },
  {
   "cell_type": "code",
   "execution_count": 57,
   "metadata": {},
   "outputs": [
    {
     "data": {
      "text/plain": [
       "3"
      ]
     },
     "execution_count": 57,
     "metadata": {},
     "output_type": "execute_result"
    }
   ],
   "source": [
    "datetime.fromtimestamp(1711153611200/1e3).time().hour"
   ]
  },
  {
   "cell_type": "code",
   "execution_count": 38,
   "metadata": {},
   "outputs": [
    {
     "data": {
      "text/plain": [
       "datetime.datetime(2024, 3, 23, 0, 0)"
      ]
     },
     "execution_count": 38,
     "metadata": {},
     "output_type": "execute_result"
    }
   ],
   "source": [
    "start_date = datetime.now().date()\n",
    "start_time = time.min\n",
    "start = datetime.combine(start_date, start_time)\n",
    "start"
   ]
  },
  {
   "cell_type": "code",
   "execution_count": 23,
   "metadata": {},
   "outputs": [
    {
     "data": {
      "text/plain": [
       "datetime.datetime(2024, 3, 23, 11, 35, 19, 339484)"
      ]
     },
     "execution_count": 23,
     "metadata": {},
     "output_type": "execute_result"
    }
   ],
   "source": [
    "datetime.now()"
   ]
  },
  {
   "cell_type": "code",
   "execution_count": 24,
   "metadata": {},
   "outputs": [
    {
     "name": "stdout",
     "output_type": "stream",
     "text": [
      "Returned 86 events\n"
     ]
    }
   ],
   "source": [
    "time_events = search(starttime=start, endtime=datetime.now())\n",
    "print(\"Returned %s events\" % len(time_events))"
   ]
  },
  {
   "cell_type": "code",
   "execution_count": 33,
   "metadata": {},
   "outputs": [
    {
     "name": "stdout",
     "output_type": "stream",
     "text": [
      "mag: 1.91\n",
      "place: 6 km SW of Volcano, Hawaii\n",
      "time: 1711153611200\n",
      "updated: 1711153769280\n",
      "tz: None\n",
      "url: https://earthquake.usgs.gov/earthquakes/eventpage/hv74146442\n",
      "detail: https://earthquake.usgs.gov/fdsnws/event/1/query?eventid=hv74146442&format=geojson\n",
      "felt: None\n",
      "cdi: None\n",
      "mmi: None\n",
      "alert: None\n",
      "status: automatic\n",
      "tsunami: 0\n",
      "sig: 56\n",
      "net: hv\n",
      "code: 74146442\n",
      "ids: ,hv74146442,\n",
      "sources: ,hv,\n",
      "types: ,origin,phase-data,\n",
      "nst: 14\n",
      "dmin: 0.003498\n",
      "rms: 0.129999995\n",
      "gap: 57\n",
      "magType: ml\n",
      "type: earthquake\n",
      "title: M 1.9 - 6 km SW of Volcano, Hawaii\n"
     ]
    }
   ],
   "source": [
    "ci3144585 = time_events[1]\n",
    "properties = ci3144585.properties\n",
    "for prop in properties:\n",
    "    print(\"%s: %s\" % (prop, ci3144585[prop]))"
   ]
  },
  {
   "cell_type": "code",
   "execution_count": 34,
   "metadata": {},
   "outputs": [
    {
     "data": {
      "text/plain": [
       "['mag',\n",
       " 'place',\n",
       " 'time',\n",
       " 'updated',\n",
       " 'tz',\n",
       " 'url',\n",
       " 'detail',\n",
       " 'felt',\n",
       " 'cdi',\n",
       " 'mmi',\n",
       " 'alert',\n",
       " 'status',\n",
       " 'tsunami',\n",
       " 'sig',\n",
       " 'net',\n",
       " 'code',\n",
       " 'ids',\n",
       " 'sources',\n",
       " 'types',\n",
       " 'nst',\n",
       " 'dmin',\n",
       " 'rms',\n",
       " 'gap',\n",
       " 'magType',\n",
       " 'type',\n",
       " 'title']"
      ]
     },
     "execution_count": 34,
     "metadata": {},
     "output_type": "execute_result"
    }
   ],
   "source": [
    "ci3144585.properties"
   ]
  },
  {
   "cell_type": "code",
   "execution_count": 35,
   "metadata": {},
   "outputs": [
    {
     "data": {
      "text/plain": [
       "26"
      ]
     },
     "execution_count": 35,
     "metadata": {},
     "output_type": "execute_result"
    }
   ],
   "source": [
    "len(ci3144585.properties)"
   ]
  },
  {
   "cell_type": "code",
   "execution_count": 31,
   "metadata": {},
   "outputs": [
    {
     "data": {
      "text/plain": [
       "19"
      ]
     },
     "execution_count": 31,
     "metadata": {},
     "output_type": "execute_result"
    }
   ],
   "source": [
    "columns_from_eda = [\n",
    "    'title', 'magnitude', 'date_time', 'cdi', 'mmi', 'alert', 'tsunami',\n",
    "    'sig', 'net', 'nst', 'dmin', 'gap', 'magType', 'depth', 'latitude',\n",
    "    'longitude', 'location', 'continent', 'country']\n",
    "len(columns_from_eda)"
   ]
  },
  {
   "cell_type": "code",
   "execution_count": null,
   "metadata": {},
   "outputs": [],
   "source": []
  }
 ],
 "metadata": {
  "kernelspec": {
   "display_name": ".venv",
   "language": "python",
   "name": "python3"
  },
  "language_info": {
   "codemirror_mode": {
    "name": "ipython",
    "version": 3
   },
   "file_extension": ".py",
   "mimetype": "text/x-python",
   "name": "python",
   "nbconvert_exporter": "python",
   "pygments_lexer": "ipython3",
   "version": "3.10.12"
  }
 },
 "nbformat": 4,
 "nbformat_minor": 2
}
